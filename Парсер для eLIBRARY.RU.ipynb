{
 "cells": [
  {
   "cell_type": "markdown",
   "metadata": {},
   "source": [
    "### Подключение библиотек"
   ]
  },
  {
   "cell_type": "code",
   "execution_count": null,
   "metadata": {},
   "outputs": [],
   "source": [
    "import os\n",
    "import time\n",
    "import re\n",
    "import random\n",
    "import requests\n",
    "from tbselenium.tbdriver import TorBrowserDriver"
   ]
  },
  {
   "cell_type": "markdown",
   "metadata": {},
   "source": [
    "### Авторизация"
   ]
  },
  {
   "cell_type": "code",
   "execution_count": null,
   "metadata": {},
   "outputs": [],
   "source": [
    "def work():\n",
    "    browser = TorBrowserDriver(\"./tor-browser-linux64-8.5.3_ru/tor-browser_ru/\")\n",
    "    browser.get('http://elibrary.ru/')\n",
    "\n",
    "    textarea = browser.find_element_by_id('login')\n",
    "    textarea.send_keys('***')\n",
    "    textarea1 = browser.find_element_by_id('password')\n",
    "    textarea1.send_keys('***')\n",
    "\n",
    "    submit1 = browser.find_element_by_xpath('//div[@class=\"butred\" and contains(text(), \"Вход\")]')\n",
    "    submit1.click()\n",
    "    \n",
    "    browser.get('https://elibrary.ru/projects/subscription/rus_titles_free.asp')    \n",
    "    return browser"
   ]
  },
  {
   "cell_type": "markdown",
   "metadata": {},
   "source": [
    "### Получение id всех журналов"
   ]
  },
  {
   "cell_type": "code",
   "execution_count": null,
   "metadata": {},
   "outputs": [],
   "source": [
    "browser = work()\n",
    "browser.get('https://elibrary.ru/projects/subscription/rus_titles_free.asp')\n",
    "parentElement = browser.find_element_by_id('restab')\n",
    "elementList = parentElement.find_elements_by_tag_name('tr')\n",
    "\n",
    "all_id = list()\n",
    "for elem in elementList:    \n",
    "    all_tag = elem.get_attribute('outerHTML')\n",
    "    s = re.search('id=\"a\\d{4,6}\"', str(all_tag))\n",
    "    if s:\n",
    "        s2 = s.group(0)\n",
    "        s3 = re.search('\\d{4,6}', str(s2))\n",
    "        if s3:\n",
    "            all_id.append(s3.group(0))"
   ]
  },
  {
   "cell_type": "markdown",
   "metadata": {},
   "source": [
    "### Проход по каждой статье и скачивание всех pdf-ов"
   ]
  },
  {
   "cell_type": "code",
   "execution_count": null,
   "metadata": {},
   "outputs": [],
   "source": [
    "browser = work()\n",
    "\n",
    "for journal_id in all_id:\n",
    "    \n",
    "    url = 'https://elibrary.ru/contents.asp?titleid=' + str(journal_id)\n",
    "    browser.get(url)    \n",
    "    parentElement1 = browser.find_element_by_id('restab')\n",
    "    elementList1 = parentElement1.find_elements_by_tag_name('tr')\n",
    "    \n",
    "    all_articles = list()\n",
    "    num_art = 0\n",
    "    for index in range(len(elementList1)):\n",
    "        elem = elementList1[index]\n",
    "        if num_art == 10:\n",
    "            browser.quit()\n",
    "            time.sleep(random.randint(40,100))\n",
    "            browser = work()\n",
    "            url = 'https://elibrary.ru/contents.asp?titleid=' + str(journal_id)\n",
    "            browser.get(url)\n",
    "            parentElement1 = browser.find_element_by_id('restab')\n",
    "            elementList1 = parentElement1.find_elements_by_tag_name('tr')\n",
    "            elem = elementList1[index]\n",
    "            num_art = 0\n",
    "        num_art += 1\n",
    "        all_tag = elem.get_attribute('innerHTML')\n",
    "        s = re.search('id=\"tid\\d{6,20}\"', str(all_tag))\n",
    "        if s:\n",
    "            s2 = s.group(0)\n",
    "            s3 = re.search('\\d{6,10}', str(s2))\n",
    "            new_id = s3.group(0)          \n",
    "            \n",
    "            flag_a = True\n",
    "            try:\n",
    "                a = browser.find_element_by_xpath('//a[@href=\"javascript:load_article(' + new_id + ')\"]') \n",
    "            except:\n",
    "                print('WRONG')\n",
    "                flag_a = False\n",
    "                pass\n",
    "            \n",
    "            #Скачивание pdf\n",
    "            window_before = browser.current_window_handle  \n",
    "            \n",
    "            if flag_a == True:\n",
    "                \n",
    "                time.sleep(random.randint(5,10))\n",
    "                \n",
    "                a.click()     \n",
    "                time.sleep(random.randint(10,17))\n",
    "                \n",
    "                all_windows = browser.window_handles\n",
    "                for window in all_windows:\n",
    "                    if window != window_before:\n",
    "                        window_after = window\n",
    "\n",
    "                browser.switch_to_window(window_after) \n",
    "\n",
    "\n",
    "                #time.sleep(5)\n",
    "                flag = False\n",
    "                j = 0\n",
    "                while flag == False and j < 30:\n",
    "                    url = browser.current_url\n",
    "                    if url != 'about:blank':\n",
    "                        flag = True\n",
    "                    time.sleep(1)\n",
    "                    j += 1\n",
    "                    \n",
    "                if url == 'about:blank':\n",
    "                    pass\n",
    "                else:\n",
    "                    r = requests.get(url, stream=True)\n",
    "\n",
    "                    #В названии должен быть указан id-журнала + id-статьи\n",
    "                    dir_name = str(\"./Статьи/id_journal=\" + journal_id)\n",
    "                    if os.path.exists(dir_name) == False:\n",
    "                        os.mkdir(dir_name)\n",
    "\n",
    "                    fname = dir_name +\"/id_article=\" + new_id + \".pdf\"\n",
    "                    with open(fname, \"wb\") as fd:\n",
    "                        for ch in r.iter_content():\n",
    "                            fd.write(ch)\n",
    "\n",
    "                browser.close()\n",
    "                browser.switch_to_window(window_before)\n",
    "            \n",
    "    time.sleep(random.randint(0,4))\n",
    "    print(journal_id) "
   ]
  }
 ],
 "metadata": {
  "kernelspec": {
   "display_name": "Python 3",
   "language": "python",
   "name": "python3"
  },
  "language_info": {
   "codemirror_mode": {
    "name": "ipython",
    "version": 3
   },
   "file_extension": ".py",
   "mimetype": "text/x-python",
   "name": "python",
   "nbconvert_exporter": "python",
   "pygments_lexer": "ipython3",
   "version": "3.7.3"
  }
 },
 "nbformat": 4,
 "nbformat_minor": 2
}
